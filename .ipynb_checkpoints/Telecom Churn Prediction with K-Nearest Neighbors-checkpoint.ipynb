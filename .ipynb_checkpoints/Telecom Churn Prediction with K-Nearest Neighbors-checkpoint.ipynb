{
 "cells": [
  {
   "cell_type": "code",
   "execution_count": 1,
   "id": "ac2864e2-3cf2-4dbb-9083-c7ae7ab25aa0",
   "metadata": {},
   "outputs": [],
   "source": [
    "# Telecom Churn Prediction with K-Nearest Neighbors (KNN)\r\n",
    "# \r\n",
    "# This analysis focuses on predicting customer churn in the telecom industry.\r\n",
    "# By utilizing the K-Nearest Neighbors (KNN) algorithm, we explore how varying\r\n",
    "# the number of neighbors (K) affects model accuracy. \r\n",
    "#\r\n",
    "# Dataset: The data used here consists of various telecom customer features, including\r\n",
    "# demographic details, service usage, and customer status (Churn or No Churn).\r\n",
    "# \r\n",
    "# Steps:\r\n",
    "# 1. Data preparation by splitting features and target values.\r\n",
    "# 2. Training and testing split with a 70-30 ratio and stratified sampling.\r\n",
    "# 3. KNN model is trained on different values of K to observe performance.\r\n",
    "# 4. Visualization of training and test accuracy to help choose the optimal K.\r\n",
    "#\r\n",
    "# Objective: To identify the best K-value that provides a balance between\r\n",
    "# training and test accuracy, thus minimizing underfitting or overfitting.\r\n"
   ]
  },
  {
   "cell_type": "code",
   "execution_count": 2,
   "id": "cd65c8e5-cda0-41fc-b830-7ffd747044a8",
   "metadata": {},
   "outputs": [],
   "source": [
    "import pandas as pd"
   ]
  },
  {
   "cell_type": "code",
   "execution_count": 3,
   "id": "31c9a339-d433-4b2e-a3dd-d23e9bb1d57c",
   "metadata": {},
   "outputs": [],
   "source": [
    "import numpy as np"
   ]
  },
  {
   "cell_type": "code",
   "execution_count": 4,
   "id": "5742764a-87b4-42ca-8db2-69af31b2fc0c",
   "metadata": {},
   "outputs": [],
   "source": [
    "from sklearn.neighbors import KNeighborsClassifier"
   ]
  },
  {
   "cell_type": "code",
   "execution_count": 5,
   "id": "b790b6fb-8c88-4d9e-bde3-2ccf1f7bf7df",
   "metadata": {},
   "outputs": [],
   "source": [
    "from sklearn.model_selection import train_test_split"
   ]
  },
  {
   "cell_type": "code",
   "execution_count": 6,
   "id": "273809f1-58ff-469a-8d3d-1e3f00d5de89",
   "metadata": {},
   "outputs": [],
   "source": [
    "import matplotlib.pyplot as plt"
   ]
  },
  {
   "cell_type": "code",
   "execution_count": 7,
   "id": "3230857f-3348-43cf-a154-d949f1023aff",
   "metadata": {},
   "outputs": [],
   "source": [
    "df = pd.read_csv(\"telecom_churn.csv\")"
   ]
  },
  {
   "cell_type": "code",
   "execution_count": 8,
   "id": "b36e4987-96d7-4a18-b149-452bc5071747",
   "metadata": {},
   "outputs": [],
   "source": [
    "# removing output(target) column and assign the rest data set values to X variable"
   ]
  },
  {
   "cell_type": "code",
   "execution_count": 9,
   "id": "0daeef42-4ea9-42fa-8a2b-04b8ee70cf81",
   "metadata": {},
   "outputs": [
    {
     "data": {
      "text/plain": [
       "array([[128.  ,   1.  ,   1.  , ...,  89.  ,   9.87,  10.  ],\n",
       "       [107.  ,   1.  ,   1.  , ...,  82.  ,   9.78,  13.7 ],\n",
       "       [137.  ,   1.  ,   0.  , ...,  52.  ,   6.06,  12.2 ],\n",
       "       ...,\n",
       "       [ 28.  ,   1.  ,   0.  , ...,  56.  ,  14.44,  14.1 ],\n",
       "       [184.  ,   0.  ,   0.  , ...,  50.  ,   7.98,   5.  ],\n",
       "       [ 74.  ,   1.  ,   1.  , ..., 100.  ,  13.3 ,  13.7 ]])"
      ]
     },
     "execution_count": 9,
     "metadata": {},
     "output_type": "execute_result"
    }
   ],
   "source": [
    "X = df.drop(\"Churn\",axis=1).values\n",
    "X"
   ]
  },
  {
   "cell_type": "code",
   "execution_count": 10,
   "id": "56ad1ec9-5a12-4c75-996a-e47e1d5d0b1c",
   "metadata": {},
   "outputs": [],
   "source": [
    "# assigning output(target) column values to y variable"
   ]
  },
  {
   "cell_type": "code",
   "execution_count": 11,
   "id": "d5543dd2-4da9-4f7b-ab76-e93ceca1eec7",
   "metadata": {},
   "outputs": [
    {
     "data": {
      "text/plain": [
       "array([0, 0, 0, ..., 0, 0, 0], dtype=int64)"
      ]
     },
     "execution_count": 11,
     "metadata": {},
     "output_type": "execute_result"
    }
   ],
   "source": [
    "y = df[\"Churn\"].values\n",
    "y"
   ]
  },
  {
   "cell_type": "code",
   "execution_count": 12,
   "id": "7d09a478-4fb9-4960-9ed8-38e0f1b86cbf",
   "metadata": {},
   "outputs": [],
   "source": [
    "# Splitting the data into training and test data sets"
   ]
  },
  {
   "cell_type": "code",
   "execution_count": 13,
   "id": "f104d5d8-d278-4496-ad4d-ffc2ba4adbda",
   "metadata": {},
   "outputs": [],
   "source": [
    "X_train,X_test,y_train,y_test = train_test_split(X,y,test_size=0.3,random_state=17,stratify=y)"
   ]
  },
  {
   "cell_type": "code",
   "execution_count": 14,
   "id": "5f870b9d-83b2-4287-b8f3-212ca67fdaa8",
   "metadata": {},
   "outputs": [],
   "source": [
    "# Fitting knn and testing accuracy of model on different number of K"
   ]
  },
  {
   "cell_type": "code",
   "execution_count": 15,
   "id": "db715c7a-f71d-49b1-87ae-8962aaa23df0",
   "metadata": {},
   "outputs": [],
   "source": [
    "train_accuracy={}"
   ]
  },
  {
   "cell_type": "code",
   "execution_count": 16,
   "id": "a4da034b-4cbe-440a-82e9-1895d7a76327",
   "metadata": {},
   "outputs": [],
   "source": [
    "test_accuracy={}"
   ]
  },
  {
   "cell_type": "code",
   "execution_count": 17,
   "id": "0c1cc5e4-e26c-47ea-bc11-bd18cab87702",
   "metadata": {},
   "outputs": [],
   "source": [
    "neighbors = np.arange(1,21)"
   ]
  },
  {
   "cell_type": "code",
   "execution_count": 18,
   "id": "5de8fbb1-f705-4b4f-94c0-3ae789933b61",
   "metadata": {},
   "outputs": [],
   "source": [
    "for neighbor in neighbors:\n",
    "    knn = KNeighborsClassifier(n_neighbors=neighbor)\n",
    "    knn.fit(X_train,y_train)\n",
    "    train_accuracy[neighbor] = knn.score(X_train,y_train)\n",
    "    test_accuracy[neighbor] = knn.score(X_test,y_test)"
   ]
  },
  {
   "cell_type": "code",
   "execution_count": 19,
   "id": "794ad66d-04a0-4dd9-a8b1-e80a15ae6049",
   "metadata": {},
   "outputs": [],
   "source": [
    "# Plotting Training and Test Accuracy for Different K Values\n",
    "# \n",
    "# This plot shows how the accuracy of the K-Nearest Neighbors (KNN) model\n",
    "# changes as the number of neighbors (K) varies from 1 to 15. \n",
    "# It helps in selecting the optimal K by comparing training and test accuracy.\n",
    "# A high training accuracy but low test accuracy can indicate overfitting,\n",
    "# while similar training and test accuracies suggest a more generalized model."
   ]
  },
  {
   "cell_type": "code",
   "execution_count": 20,
   "id": "625b6c0e-4b38-47a0-89c4-e07570045e46",
   "metadata": {},
   "outputs": [
    {
     "data": {
      "image/png": "[encoded data removed]",
      "text/plain": [
       "<Figure size 800x600 with 1 Axes>"
      ]
     },
     "metadata": {},
     "output_type": "display_data"
    }
   ],
   "source": [
    "plt.figure(figsize=(8,6))\n",
    "plt.title(\"Knn: Varying no of Neighbors\")\n",
    "plt.plot(neighbors,train_accuracy.values(),label=\"Training Accuracy\")\n",
    "plt.plot(neighbors,test_accuracy.values(),label=\"Test Accuracy\")\n",
    "plt.legend()\n",
    "plt.xlabel(\"No of Neighbors\")\n",
    "plt.ylabel(\"Accuracy\")\n",
    "plt.show()\n"
   ]
  },
  {
   "cell_type": "code",
   "execution_count": null,
   "id": "a6030bac-61ca-4608-ae21-0d09f910a237",
   "metadata": {},
   "outputs": [],
   "source": []
  },
  {
   "cell_type": "code",
   "execution_count": null,
   "id": "a9394a0f-8a65-499c-9a90-db8ee71a251f",
   "metadata": {},
   "outputs": [],
   "source": []
  },
  {
   "cell_type": "code",
   "execution_count": null,
   "id": "f2f4b1e2-1eee-46cc-8730-78fa03dc03ab",
   "metadata": {},
   "outputs": [],
   "source": []
  },
  {
   "cell_type": "code",
   "execution_count": null,
   "id": "ad1cb872-8b46-4e42-8b98-64784c16d88c",
   "metadata": {},
   "outputs": [],
   "source": []
  },
  {
   "cell_type": "code",
   "execution_count": null,
   "id": "04aa0a8f-a52d-4340-a9a9-4497f3521d6a",
   "metadata": {},
   "outputs": [],
   "source": []
  }
 ],
 "metadata": {
  "kernelspec": {
   "display_name": "Python 3 (ipykernel)",
   "language": "python",
   "name": "python3"
  },
  "language_info": {
   "codemirror_mode": {
    "name": "ipython",
    "version": 3
   },
   "file_extension": ".py",
   "mimetype": "text/x-python",
   "name": "python",
   "nbconvert_exporter": "python",
   "pygments_lexer": "ipython3",
   "version": "3.11.7"
  }
 },
 "nbformat": 4,
 "nbformat_minor": 5
}
